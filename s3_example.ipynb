{
 "cells": [
  {
   "cell_type": "code",
   "execution_count": 1,
   "metadata": {},
   "outputs": [],
   "source": [
    "import os\n",
    "import sys\n",
    "import boto3\n",
    "from boto3.s3.transfer import TransferConfig\n",
    "import json\n",
    "import geopandas as gpd\n",
    "from io import BytesIO\n",
    "\n",
    "config = TransferConfig(use_threads=False)\n",
    "\n",
    "def start_session():\n",
    "    \"\"\"\n",
    "    Start a new boto3 session\n",
    "\n",
    "    Returns:\n",
    "        session: boto3 session\n",
    "    \"\"\"\n",
    "    session = boto3.Session()\n",
    "\n",
    "    return session\n",
    "\n",
    "def get_mfa_serial(session):\n",
    "    \"\"\"\n",
    "    Get the multi-factor authentication (MFA) serial number from the session\n",
    "    \n",
    "    Args:\n",
    "        session: boto3 session\n",
    "\n",
    "    Returns:\n",
    "        mfa_serial: MFA serial number\n",
    "    \"\"\"\n",
    "    mfa_serial = session._session.full_config['profiles']['default']['mfa_serial']\n",
    "\n",
    "    return mfa_serial\n",
    "\n",
    "def get_mfa_token():\n",
    "    \"\"\"\n",
    "    Get the MFA token from the user\n",
    "    \n",
    "    Returns:\n",
    "        mfa_token: MFA token\n",
    "    \"\"\"\n",
    "    mfa_token = input('Please enter your 6 digit MFA code:')\n",
    "    \n",
    "    return mfa_token\n",
    "\n",
    "def get_session_token(session, mfa_serial, mfa_token):\n",
    "    \"\"\"\n",
    "    Get a session token from AWS Security Token Service (STS)\n",
    "    \n",
    "    Args:\n",
    "        session: boto3 session\n",
    "        mfa_serial: MFA serial number\n",
    "        mfa_token: MFA token\n",
    "    \n",
    "    Returns:\n",
    "        MFA_validated_token: MFA validated token\n",
    "    \"\"\"\n",
    "    sts = session.client('sts')\n",
    "\n",
    "    return sts.get_session_token(SerialNumber=mfa_serial, TokenCode=mfa_token)\n",
    "\n",
    "def decompose_mfa_validated_token(MFA_validated_token):\n",
    "    \"\"\"\n",
    "    Decompose the MFA validated token into its components\n",
    "\n",
    "    Args:\n",
    "        MFA_validated_token: MFA validated token\n",
    "\n",
    "    Returns:\n",
    "        session_token: Session token from AWS STS\n",
    "        secret_access_key: Secret access key from AWS STS\n",
    "        access_key_id: Access key id from AWS STS\n",
    "    \"\"\"\n",
    "    session_token = MFA_validated_token['Credentials']['SessionToken']\n",
    "    secret_access_key = MFA_validated_token['Credentials']['SecretAccessKey']\n",
    "    access_key_id = MFA_validated_token['Credentials']['AccessKeyId']\n",
    "\n",
    "    return session_token, secret_access_key, access_key_id"
   ]
  },
  {
   "cell_type": "markdown",
   "metadata": {},
   "source": [
    "# (1) Connect to boto3 and create S3 client"
   ]
  },
  {
   "cell_type": "code",
   "execution_count": 2,
   "metadata": {},
   "outputs": [],
   "source": [
    "# Create a boto3 session\n",
    "session = start_session()\n",
    "\n",
    "# Handle SMCE MFA requirement\n",
    "mfa_serial = get_mfa_serial(session=session)\n",
    "mfa_token = get_mfa_token()\n",
    "MFA_validated_token = get_session_token(session=session, mfa_serial=mfa_serial, mfa_token=mfa_token)\n",
    "session_token, secret_access_key, access_key_id = decompose_mfa_validated_token(MFA_validated_token)\n",
    "\n",
    "# Create an S3 client\n",
    "s3 = session.client('s3', \n",
    "            aws_session_token=session_token,\n",
    "            aws_secret_access_key=secret_access_key,\n",
    "            aws_access_key_id=access_key_id\n",
    "            )"
   ]
  },
  {
   "cell_type": "markdown",
   "metadata": {},
   "source": [
    "# (2) List all S3 buckets"
   ]
  },
  {
   "cell_type": "code",
   "execution_count": 3,
   "metadata": {},
   "outputs": [
    {
     "name": "stdout",
     "output_type": "stream",
     "text": [
      "Existing buckets:\n",
      "  729474902545-smce-hpcscript\n",
      "  config-bucket-smce-729474902545\n",
      "  cur-reports-smce-729474902545\n",
      "  smce-ansible-729474902545\n",
      "  snow-observing-systems\n"
     ]
    }
   ],
   "source": [
    "response = s3.list_buckets()\n",
    "\n",
    "# Output the bucket names\n",
    "print('Existing buckets:')\n",
    "for bucket in response['Buckets']:\n",
    "    print(f'  {bucket[\"Name\"]}')"
   ]
  },
  {
   "cell_type": "markdown",
   "metadata": {},
   "source": [
    "# (3) List all files"
   ]
  },
  {
   "cell_type": "code",
   "execution_count": 4,
   "metadata": {},
   "outputs": [
    {
     "name": "stdout",
     "output_type": "stream",
     "text": [
      "Optimization_result.geojson\n",
      "WBD_10_HU2_4326.geojson\n",
      "s3_update.ipynb\n"
     ]
    }
   ],
   "source": [
    "response = s3.list_objects_v2(Bucket='snow-observing-systems')\n",
    "\n",
    "# Check if the bucket contains any objects\n",
    "if 'Contents' in response:\n",
    "    for obj in response['Contents']:\n",
    "        print(obj['Key'])\n",
    "else:\n",
    "    print(\"Bucket is empty or does not exist.\")"
   ]
  },
  {
   "cell_type": "markdown",
   "metadata": {},
   "source": [
    "# (4) Read contents of a file"
   ]
  },
  {
   "cell_type": "code",
   "execution_count": 5,
   "metadata": {},
   "outputs": [],
   "source": [
    "# Get the object from the bucket\n",
    "response = s3.get_object(Bucket='snow-observing-systems', Key='Optimization_result.geojson')\n",
    "\n",
    "# Read the contents of the file\n",
    "file_contents = response['Body'].read()\n",
    "\n",
    "# Parse the contents as GeoJSON\n",
    "geojson_data = gpd.read_file(BytesIO(file_contents))"
   ]
  },
  {
   "cell_type": "markdown",
   "metadata": {},
   "source": [
    "# (5) Download a file"
   ]
  },
  {
   "cell_type": "code",
   "execution_count": 6,
   "metadata": {},
   "outputs": [],
   "source": [
    "s3.download_file('snow-observing-systems', 'Optimization_result.geojson', 'Optimization_result.geojson', Config=config)"
   ]
  },
  {
   "cell_type": "markdown",
   "metadata": {},
   "source": [
    "# (6) Upload a file"
   ]
  },
  {
   "cell_type": "code",
   "execution_count": 7,
   "metadata": {},
   "outputs": [],
   "source": [
    "s3.upload_file(\n",
    "    's3_update.ipynb', 'snow-observing-systems', 's3_update.ipynb', Config=config\n",
    ")"
   ]
  }
 ],
 "metadata": {
  "kernelspec": {
   "display_name": "sos",
   "language": "python",
   "name": "python3"
  },
  "language_info": {
   "codemirror_mode": {
    "name": "ipython",
    "version": 3
   },
   "file_extension": ".py",
   "mimetype": "text/x-python",
   "name": "python",
   "nbconvert_exporter": "python",
   "pygments_lexer": "ipython3",
   "version": "3.10.15"
  }
 },
 "nbformat": 4,
 "nbformat_minor": 2
}
