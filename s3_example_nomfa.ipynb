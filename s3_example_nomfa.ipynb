{
 "cells": [
  {
   "cell_type": "code",
   "execution_count": 1,
   "metadata": {},
   "outputs": [],
   "source": [
    "import os\n",
    "import sys\n",
    "import boto3\n",
    "from boto3.s3.transfer import TransferConfig\n",
    "import json\n",
    "import geopandas as gpd\n",
    "from io import BytesIO\n",
    "\n",
    "config = TransferConfig(use_threads=False)\n",
    "\n",
    "def start_session():\n",
    "    \"\"\"\n",
    "    Start a new boto3 session\n",
    "\n",
    "    Returns:\n",
    "        session: boto3 session\n",
    "    \"\"\"\n",
    "    session = boto3.Session()\n",
    "\n",
    "    return session\n",
    "\n",
    "def get_mfa_serial(session):\n",
    "    \"\"\"\n",
    "    Get the multi-factor authentication (MFA) serial number from the session\n",
    "    \n",
    "    Args:\n",
    "        session: boto3 session\n",
    "\n",
    "    Returns:\n",
    "        mfa_serial: MFA serial number\n",
    "    \"\"\"\n",
    "    mfa_serial = session._session.full_config['profiles']['default']['mfa_serial']\n",
    "\n",
    "    return mfa_serial\n",
    "\n",
    "def get_mfa_token():\n",
    "    \"\"\"\n",
    "    Get the MFA token from the user\n",
    "    \n",
    "    Returns:\n",
    "        mfa_token: MFA token\n",
    "    \"\"\"\n",
    "    mfa_token = input('Please enter your 6 digit MFA code:')\n",
    "    \n",
    "    return mfa_token\n",
    "\n",
    "def get_session_token(session, mfa_serial=None, mfa_token=None, mfa_required=True):\n",
    "    \"\"\"\n",
    "    Get a session token from AWS Security Token Service (STS)\n",
    "    \n",
    "    Args:\n",
    "        session: boto3 session\n",
    "        mfa_serial: MFA serial number\n",
    "        mfa_token: MFA token\n",
    "    \n",
    "    Returns:\n",
    "        MFA_validated_token: MFA validated token\n",
    "    \"\"\"\n",
    "    sts = session.client('sts')\n",
    "\n",
    "    if mfa_required:\n",
    "        return sts.get_session_token(SerialNumber=mfa_serial, TokenCode=mfa_token)\n",
    "    \n",
    "    else:\n",
    "        return sts.get_session_token()\n",
    "\n",
    "def decompose_token(token):\n",
    "    \"\"\"\n",
    "    Decompose the token into its components\n",
    "\n",
    "    Args:\n",
    "        token: MFA validated token\n",
    "\n",
    "    Returns:\n",
    "        session_token: Session token from AWS STS\n",
    "        secret_access_key: Secret access key from AWS STS\n",
    "        access_key_id: Access key id from AWS STS\n",
    "    \"\"\"\n",
    "    credentials = token.get('Credentials', {})\n",
    "    session_token = credentials.get('SessionToken')\n",
    "    secret_access_key = credentials.get('SecretAccessKey')\n",
    "    access_key_id = credentials.get('AccessKeyId')\n",
    "\n",
    "    return session_token, secret_access_key, access_key_id"
   ]
  },
  {
   "cell_type": "markdown",
   "metadata": {},
   "source": [
    "# (1) Connect to boto3 and create S3 client"
   ]
  },
  {
   "cell_type": "code",
   "execution_count": 2,
   "metadata": {},
   "outputs": [],
   "source": [
    "# Create a boto3 session\n",
    "session = start_session()\n",
    "\n",
    "# Get a session token\n",
    "token = get_session_token(session=session, mfa_required=False)\n",
    "session_token, secret_access_key, access_key_id = decompose_token(token)\n",
    "\n",
    "# Create an S3 client\n",
    "s3 = session.client('s3', \n",
    "            aws_session_token=session_token,\n",
    "            aws_secret_access_key=secret_access_key,\n",
    "            aws_access_key_id=access_key_id\n",
    "            )"
   ]
  },
  {
   "cell_type": "markdown",
   "metadata": {},
   "source": [
    "# (2) List all S3 buckets\n",
    "\n",
    ">NOTE: The cell below **will fail** as permissions for viewing all NOS-T S3 buckets is not allowed"
   ]
  },
  {
   "cell_type": "code",
   "execution_count": 6,
   "metadata": {},
   "outputs": [
    {
     "ename": "ClientError",
     "evalue": "An error occurred (AccessDenied) when calling the ListBuckets operation: User: arn:aws:iam::729474902545:user/sos-service-account is not authorized to perform: s3:ListAllMyBuckets because no identity-based policy allows the s3:ListAllMyBuckets action",
     "output_type": "error",
     "traceback": [
      "\u001b[0;31m---------------------------------------------------------------------------\u001b[0m",
      "\u001b[0;31mClientError\u001b[0m                               Traceback (most recent call last)",
      "Cell \u001b[0;32mIn[6], line 1\u001b[0m\n\u001b[0;32m----> 1\u001b[0m response \u001b[38;5;241m=\u001b[39m \u001b[43ms3\u001b[49m\u001b[38;5;241;43m.\u001b[39;49m\u001b[43mlist_buckets\u001b[49m\u001b[43m(\u001b[49m\u001b[43m)\u001b[49m\n\u001b[1;32m      3\u001b[0m \u001b[38;5;66;03m# Output the bucket names\u001b[39;00m\n\u001b[1;32m      4\u001b[0m \u001b[38;5;28mprint\u001b[39m(\u001b[38;5;124m'\u001b[39m\u001b[38;5;124mExisting buckets:\u001b[39m\u001b[38;5;124m'\u001b[39m)\n",
      "File \u001b[0;32m~/miniconda3/envs/sos/lib/python3.10/site-packages/botocore/client.py:569\u001b[0m, in \u001b[0;36mClientCreator._create_api_method.<locals>._api_call\u001b[0;34m(self, *args, **kwargs)\u001b[0m\n\u001b[1;32m    565\u001b[0m     \u001b[38;5;28;01mraise\u001b[39;00m \u001b[38;5;167;01mTypeError\u001b[39;00m(\n\u001b[1;32m    566\u001b[0m         \u001b[38;5;124mf\u001b[39m\u001b[38;5;124m\"\u001b[39m\u001b[38;5;132;01m{\u001b[39;00mpy_operation_name\u001b[38;5;132;01m}\u001b[39;00m\u001b[38;5;124m() only accepts keyword arguments.\u001b[39m\u001b[38;5;124m\"\u001b[39m\n\u001b[1;32m    567\u001b[0m     )\n\u001b[1;32m    568\u001b[0m \u001b[38;5;66;03m# The \"self\" in this scope is referring to the BaseClient.\u001b[39;00m\n\u001b[0;32m--> 569\u001b[0m \u001b[38;5;28;01mreturn\u001b[39;00m \u001b[38;5;28;43mself\u001b[39;49m\u001b[38;5;241;43m.\u001b[39;49m\u001b[43m_make_api_call\u001b[49m\u001b[43m(\u001b[49m\u001b[43moperation_name\u001b[49m\u001b[43m,\u001b[49m\u001b[43m \u001b[49m\u001b[43mkwargs\u001b[49m\u001b[43m)\u001b[49m\n",
      "File \u001b[0;32m~/miniconda3/envs/sos/lib/python3.10/site-packages/botocore/client.py:1023\u001b[0m, in \u001b[0;36mBaseClient._make_api_call\u001b[0;34m(self, operation_name, api_params)\u001b[0m\n\u001b[1;32m   1019\u001b[0m     error_code \u001b[38;5;241m=\u001b[39m error_info\u001b[38;5;241m.\u001b[39mget(\u001b[38;5;124m\"\u001b[39m\u001b[38;5;124mQueryErrorCode\u001b[39m\u001b[38;5;124m\"\u001b[39m) \u001b[38;5;129;01mor\u001b[39;00m error_info\u001b[38;5;241m.\u001b[39mget(\n\u001b[1;32m   1020\u001b[0m         \u001b[38;5;124m\"\u001b[39m\u001b[38;5;124mCode\u001b[39m\u001b[38;5;124m\"\u001b[39m\n\u001b[1;32m   1021\u001b[0m     )\n\u001b[1;32m   1022\u001b[0m     error_class \u001b[38;5;241m=\u001b[39m \u001b[38;5;28mself\u001b[39m\u001b[38;5;241m.\u001b[39mexceptions\u001b[38;5;241m.\u001b[39mfrom_code(error_code)\n\u001b[0;32m-> 1023\u001b[0m     \u001b[38;5;28;01mraise\u001b[39;00m error_class(parsed_response, operation_name)\n\u001b[1;32m   1024\u001b[0m \u001b[38;5;28;01melse\u001b[39;00m:\n\u001b[1;32m   1025\u001b[0m     \u001b[38;5;28;01mreturn\u001b[39;00m parsed_response\n",
      "\u001b[0;31mClientError\u001b[0m: An error occurred (AccessDenied) when calling the ListBuckets operation: User: arn:aws:iam::729474902545:user/sos-service-account is not authorized to perform: s3:ListAllMyBuckets because no identity-based policy allows the s3:ListAllMyBuckets action"
     ]
    }
   ],
   "source": [
    "response = s3.list_buckets()\n",
    "\n",
    "# Output the bucket names\n",
    "print('Existing buckets:')\n",
    "for bucket in response['Buckets']:\n",
    "    print(f'  {bucket[\"Name\"]}')"
   ]
  },
  {
   "cell_type": "markdown",
   "metadata": {},
   "source": [
    "# (3) List all files"
   ]
  },
  {
   "cell_type": "code",
   "execution_count": 7,
   "metadata": {},
   "outputs": [
    {
     "name": "stdout",
     "output_type": "stream",
     "text": [
      "Optimization_result.geojson\n",
      "WBD_10_HU2_4326.geojson\n",
      "s3_update.ipynb\n"
     ]
    }
   ],
   "source": [
    "response = s3.list_objects_v2(Bucket='snow-observing-systems')\n",
    "\n",
    "# Check if the bucket contains any objects\n",
    "if 'Contents' in response:\n",
    "    for obj in response['Contents']:\n",
    "        print(obj['Key'])\n",
    "else:\n",
    "    print(\"Bucket is empty or does not exist.\")"
   ]
  },
  {
   "cell_type": "markdown",
   "metadata": {},
   "source": [
    "# (4) Read contents of a file"
   ]
  },
  {
   "cell_type": "code",
   "execution_count": 8,
   "metadata": {},
   "outputs": [],
   "source": [
    "# Get the object from the bucket\n",
    "response = s3.get_object(Bucket='snow-observing-systems', Key='Optimization_result.geojson')\n",
    "\n",
    "# Read the contents of the file\n",
    "file_contents = response['Body'].read()\n",
    "\n",
    "# Parse the contents as GeoJSON\n",
    "geojson_data = gpd.read_file(BytesIO(file_contents))"
   ]
  },
  {
   "cell_type": "markdown",
   "metadata": {},
   "source": [
    "# (5) Download a file"
   ]
  },
  {
   "cell_type": "code",
   "execution_count": 11,
   "metadata": {},
   "outputs": [],
   "source": [
    "s3.download_file('snow-observing-systems', 'Optimization_result.geojson', 'Optimization_result.geojson', Config=config)"
   ]
  },
  {
   "cell_type": "markdown",
   "metadata": {},
   "source": [
    "# (6) Upload a file"
   ]
  },
  {
   "cell_type": "code",
   "execution_count": 12,
   "metadata": {},
   "outputs": [],
   "source": [
    "s3.upload_file(\n",
    "    'Optimization_result.geojson', 'snow-observing-systems', 'Optimization_result.geojson', Config=config\n",
    ")"
   ]
  },
  {
   "cell_type": "markdown",
   "metadata": {},
   "source": [
    "# New changes"
   ]
  },
  {
   "cell_type": "code",
   "execution_count": 13,
   "metadata": {},
   "outputs": [],
   "source": [
    "# Create an S3 client\n",
    "sqs = session.client('sqs', \n",
    "            aws_session_token=session_token,\n",
    "            aws_secret_access_key=secret_access_key,\n",
    "            aws_access_key_id=access_key_id\n",
    "            )"
   ]
  },
  {
   "cell_type": "code",
   "execution_count": 14,
   "metadata": {},
   "outputs": [
    {
     "ename": "ClientError",
     "evalue": "An error occurred (AccessDenied) when calling the ListQueues operation: User: arn:aws:iam::729474902545:user/sos-service-account is not authorized to perform: sqs:listqueues on resource: arn:aws:sqs:us-east-1:729474902545: because no identity-based policy allows the sqs:listqueues action",
     "output_type": "error",
     "traceback": [
      "\u001b[0;31m---------------------------------------------------------------------------\u001b[0m",
      "\u001b[0;31mClientError\u001b[0m                               Traceback (most recent call last)",
      "Cell \u001b[0;32mIn[14], line 1\u001b[0m\n\u001b[0;32m----> 1\u001b[0m \u001b[43msqs\u001b[49m\u001b[38;5;241;43m.\u001b[39;49m\u001b[43mlist_queues\u001b[49m\u001b[43m(\u001b[49m\u001b[43m)\u001b[49m\n",
      "File \u001b[0;32m~/miniconda3/envs/sos/lib/python3.10/site-packages/botocore/client.py:569\u001b[0m, in \u001b[0;36mClientCreator._create_api_method.<locals>._api_call\u001b[0;34m(self, *args, **kwargs)\u001b[0m\n\u001b[1;32m    565\u001b[0m     \u001b[38;5;28;01mraise\u001b[39;00m \u001b[38;5;167;01mTypeError\u001b[39;00m(\n\u001b[1;32m    566\u001b[0m         \u001b[38;5;124mf\u001b[39m\u001b[38;5;124m\"\u001b[39m\u001b[38;5;132;01m{\u001b[39;00mpy_operation_name\u001b[38;5;132;01m}\u001b[39;00m\u001b[38;5;124m() only accepts keyword arguments.\u001b[39m\u001b[38;5;124m\"\u001b[39m\n\u001b[1;32m    567\u001b[0m     )\n\u001b[1;32m    568\u001b[0m \u001b[38;5;66;03m# The \"self\" in this scope is referring to the BaseClient.\u001b[39;00m\n\u001b[0;32m--> 569\u001b[0m \u001b[38;5;28;01mreturn\u001b[39;00m \u001b[38;5;28;43mself\u001b[39;49m\u001b[38;5;241;43m.\u001b[39;49m\u001b[43m_make_api_call\u001b[49m\u001b[43m(\u001b[49m\u001b[43moperation_name\u001b[49m\u001b[43m,\u001b[49m\u001b[43m \u001b[49m\u001b[43mkwargs\u001b[49m\u001b[43m)\u001b[49m\n",
      "File \u001b[0;32m~/miniconda3/envs/sos/lib/python3.10/site-packages/botocore/client.py:1023\u001b[0m, in \u001b[0;36mBaseClient._make_api_call\u001b[0;34m(self, operation_name, api_params)\u001b[0m\n\u001b[1;32m   1019\u001b[0m     error_code \u001b[38;5;241m=\u001b[39m error_info\u001b[38;5;241m.\u001b[39mget(\u001b[38;5;124m\"\u001b[39m\u001b[38;5;124mQueryErrorCode\u001b[39m\u001b[38;5;124m\"\u001b[39m) \u001b[38;5;129;01mor\u001b[39;00m error_info\u001b[38;5;241m.\u001b[39mget(\n\u001b[1;32m   1020\u001b[0m         \u001b[38;5;124m\"\u001b[39m\u001b[38;5;124mCode\u001b[39m\u001b[38;5;124m\"\u001b[39m\n\u001b[1;32m   1021\u001b[0m     )\n\u001b[1;32m   1022\u001b[0m     error_class \u001b[38;5;241m=\u001b[39m \u001b[38;5;28mself\u001b[39m\u001b[38;5;241m.\u001b[39mexceptions\u001b[38;5;241m.\u001b[39mfrom_code(error_code)\n\u001b[0;32m-> 1023\u001b[0m     \u001b[38;5;28;01mraise\u001b[39;00m error_class(parsed_response, operation_name)\n\u001b[1;32m   1024\u001b[0m \u001b[38;5;28;01melse\u001b[39;00m:\n\u001b[1;32m   1025\u001b[0m     \u001b[38;5;28;01mreturn\u001b[39;00m parsed_response\n",
      "\u001b[0;31mClientError\u001b[0m: An error occurred (AccessDenied) when calling the ListQueues operation: User: arn:aws:iam::729474902545:user/sos-service-account is not authorized to perform: sqs:listqueues on resource: arn:aws:sqs:us-east-1:729474902545: because no identity-based policy allows the sqs:listqueues action"
     ]
    }
   ],
   "source": [
    "sqs.list_queues()"
   ]
  },
  {
   "cell_type": "code",
   "execution_count": null,
   "metadata": {},
   "outputs": [],
   "source": [
    "sqs.send_message(   \n",
    "    QueueUrl='https://sqs.us-east-1.amazonaws.com/729474902545/SnowObservingSystemsDataUpdates',\n",
    "    MessageBody='Optimization result has been uploaded to the bucket.'\n",
    ")"
   ]
  },
  {
   "cell_type": "code",
   "execution_count": null,
   "metadata": {},
   "outputs": [],
   "source": [
    "response = sqs.receive_message(\n",
    "    QueueUrl='https://sqs.us-east-1.amazonaws.com/729474902545/SnowObservingSystemsDataUpdates'\n",
    ")\n",
    "\n",
    "for message in response['Messages']:\n",
    "    # Delete the message from the queue\n",
    "    sqs.delete_message(\n",
    "    QueueUrl='https://sqs.us-east-1.amazonaws.com/729474902545/SnowObservingSystemsDataUpdates',\n",
    "    ReceiptHandle=message['ReceiptHandle'])"
   ]
  }
 ],
 "metadata": {
  "kernelspec": {
   "display_name": "sos",
   "language": "python",
   "name": "python3"
  },
  "language_info": {
   "codemirror_mode": {
    "name": "ipython",
    "version": 3
   },
   "file_extension": ".py",
   "mimetype": "text/x-python",
   "name": "python",
   "nbconvert_exporter": "python",
   "pygments_lexer": "ipython3",
   "version": "3.10.15"
  }
 },
 "nbformat": 4,
 "nbformat_minor": 2
}
